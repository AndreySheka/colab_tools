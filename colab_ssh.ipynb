{
  "nbformat": 4,
  "nbformat_minor": 0,
  "metadata": {
    "colab": {
      "name": "colab_ssh.ipynb",
      "version": "0.3.2",
      "provenance": [],
      "collapsed_sections": []
    },
    "kernelspec": {
      "name": "python3",
      "display_name": "Python 3"
    },
    "accelerator": "GPU"
  },
  "cells": [
    {
      "metadata": {
        "id": "ByvPaRGAZVP6",
        "colab_type": "text"
      },
      "cell_type": "markdown",
      "source": [
        "0. Указываем необходимые константы:"
      ]
    },
    {
      "metadata": {
        "id": "F0dhGL95ZctB",
        "colab_type": "code",
        "colab": {}
      },
      "cell_type": "code",
      "source": [
        "IP_ADDRESS = ''\n",
        "\n",
        "USERNAME = ''\n",
        "PASSWORD = ''\n",
        "LOCAL_PORT = 22\n",
        "REMOTE_PORT = 2222\n",
        "ROOT_PASSWORD = None "
      ],
      "execution_count": 0,
      "outputs": []
    },
    {
      "metadata": {
        "id": "MHk4SqmwBW9J",
        "colab_type": "text"
      },
      "cell_type": "markdown",
      "source": [
        "1. Запускаем ssh-сервер и даём доступ в контейнер пользователю root"
      ]
    },
    {
      "metadata": {
        "id": "6V4CvVUacGz5",
        "colab_type": "code",
        "colab": {}
      },
      "cell_type": "code",
      "source": [
        "#Generate root password\n",
        "import secrets, string\n",
        "if not(type(ROOT_PASSWORD) == str):\n",
        "  ROOT_PASSWORD = ''.join(secrets.choice(string.ascii_letters + string.digits) for i in range(20))\n",
        "\n",
        "#Setup sshd\n",
        "! apt-get install -qq -o=Dpkg::Use-Pty=0 openssh-server pwgen sshpass > /dev/null\n",
        "#Set root password\n",
        "! echo root:$ROOT_PASSWORD | chpasswd\n",
        "! mkdir -p /var/run/sshd\n",
        "! echo \"PermitRootLogin yes\" >> /etc/ssh/sshd_config\n",
        "! echo \"PasswordAuthentication yes\" >> /etc/ssh/sshd_config\n",
        "! echo \"LD_LIBRARY_PATH=/usr/lib64-nvidia\" >> /root/.bashrc\n",
        "! echo \"export LD_LIBRARY_PATH\" >> /root/.bashrc\n",
        "\n",
        "#Run sshd\n",
        "get_ipython().system_raw('/usr/sbin/sshd -D &')\n",
        "\n",
        "#Print root password\n",
        "print(\"Root password on CoLab: {}\".format(ROOT_PASSWORD))"
      ],
      "execution_count": 0,
      "outputs": []
    },
    {
      "metadata": {
        "id": "Ug0wuF48BRq1",
        "colab_type": "text"
      },
      "cell_type": "markdown",
      "source": [
        "2. Загружаем список доступных портов для туннелирования"
      ]
    },
    {
      "metadata": {
        "id": "2JpEuZ_a6mhP",
        "colab_type": "code",
        "colab": {}
      },
      "cell_type": "code",
      "source": [
        "import codecs\n",
        "import csv\n",
        "from urllib.request import urlopen\n",
        "\n",
        "\n",
        "def parse_ports(ports):\n",
        "  for port in ports:\n",
        "    if ':' in port:\n",
        "      yield tuple(map(int, port.split(':')))\n",
        "    else:\n",
        "      yield int(port)\n",
        "\n",
        "\n",
        "allowed_ports = {}\n",
        "      \n",
        "with urlopen(f'http://{IP_ADDRESS}:1111/ports.csv') as response:\n",
        "  for (user, *ports) in csv.reader(codecs.iterdecode(response, 'utf8')):\n",
        "    allowed_ports[user] = list(parse_ports(ports))"
      ],
      "execution_count": 0,
      "outputs": []
    },
    {
      "metadata": {
        "id": "yKWZSUEfBnS2",
        "colab_type": "text"
      },
      "cell_type": "markdown",
      "source": [
        "3. Создаём функцию для выполнения туннелирования"
      ]
    },
    {
      "metadata": {
        "id": "xdqrB-dXGskK",
        "colab_type": "code",
        "colab": {}
      },
      "cell_type": "code",
      "source": [
        "import os\n",
        "import signal\n",
        "import subprocess\n",
        "import time\n",
        "\n",
        "\n",
        "def check_port(username, port):\n",
        "  if username not in allowed_ports:\n",
        "    return False\n",
        "  \n",
        "  for item in allowed_ports[username]:\n",
        "    if isinstance(item, int) and item == port:\n",
        "      return True\n",
        "    if isinstance(item, tuple) and port in range(*item):\n",
        "      return True\n",
        "    \n",
        "  return False\n",
        "\n",
        "\n",
        "def get_ports(username):\n",
        "  ports = []\n",
        "  \n",
        "  for item in allowed_ports.get(username, []):\n",
        "    if isinstance(item, int):\n",
        "      ports.append(str(item))\n",
        "    elif isinstance(item, tuple):\n",
        "      ports.append(f'{item[0]}..{item[1]}')\n",
        "      \n",
        "  return ', '.join(ports)\n",
        "\n",
        "\n",
        "def check_tunnel_up(remote_port):\n",
        "  ps_output = subprocess.check_output(['ps', 'ax'], encoding='utf8')\n",
        "  \n",
        "  for line in ps_output.split('\\n'):\n",
        "    if 'sshpass' in line:\n",
        "      return False\n",
        "    \n",
        "    if ('ssh -o' in line and f'{IP_ADDRESS}:{remote_port}' in line and\n",
        "        'sshpass' not in line):\n",
        "      return int(line.split()[0])\n",
        "    \n",
        "  return False\n",
        "\n",
        "\n",
        "def forward_port(local_port, remote_port, username, password):\n",
        "  if not check_port(username, remote_port):\n",
        "    print(f'ERROR: Remote port {remote_port} is not allowed for user \"{username}\"')\n",
        "    print(f'Allowed ports is: {get_ports(username)}')\n",
        "    return False\n",
        "  \n",
        "  if 'ROOT_PASSWORD' not in globals():\n",
        "    print('ERROR: No root password')\n",
        "    return False\n",
        "  \n",
        "  if not password:\n",
        "    print('ERROR: empty password')\n",
        "    return False\n",
        "  \n",
        "  pid = check_tunnel_up(remote_port)\n",
        "  if pid:\n",
        "    print(f'ERROR: Tunnel is up. Kill tunnel by command: os.kill({pid}, signal.SIGKILL)')\n",
        "    return False\n",
        "  \n",
        "  print(f'Creating tunnel localhost:{local_port} <--> {IP_ADDRESS}:{remote_port}')\n",
        "  \n",
        "  cmd = (f'sshpass -p \"{password}\" ssh -o \"StrictHostKeyChecking=no\" -fN -R '\n",
        "      f'\"{IP_ADDRESS}:{remote_port}:localhost:{local_port}\" '\n",
        "      f'\"{username}@{IP_ADDRESS}\" &')\n",
        "  \n",
        "  print('DEBUG: ', cmd)\n",
        "  \n",
        "  # Run reverse ssh tunnel\n",
        "  get_ipython().system_raw(cmd)\n",
        "  \n",
        "  time.sleep(1)\n",
        "  \n",
        "  for i in range(10):\n",
        "    if check_tunnel_up(remote_port):\n",
        "      print('Success')\n",
        "      return True\n",
        "    \n",
        "    time.sleep(1)\n",
        "  else:\n",
        "    print('Unknown error on creating tunnel')\n",
        "    return False"
      ],
      "execution_count": 0,
      "outputs": []
    },
    {
      "metadata": {
        "id": "mMncUwpMBuSh",
        "colab_type": "text"
      },
      "cell_type": "markdown",
      "source": [
        "4. Создаём туннель. \n",
        "\n",
        "Если нужно пробросить несколько портов, скопируйте код ниже несколько раз, указав в каждой копии необходимые порты."
      ]
    },
    {
      "metadata": {
        "id": "vZ-BVP0hHPqu",
        "colab_type": "code",
        "colab": {}
      },
      "cell_type": "code",
      "source": [
        "if forward_port(LOCAL_PORT, REMOTE_PORT, USERNAME, PASSWORD):\n",
        "  print(f'\\nCommand for CoLab access: `ssh -p {REMOTE_PORT} root@{IP_ADDRESS}`'\n",
        "        f'\\nPassword: \"{ROOT_PASSWORD}\"')"
      ],
      "execution_count": 0,
      "outputs": []
    },
    {
      "metadata": {
        "id": "PKLVGsr7fn23",
        "colab_type": "code",
        "colab": {}
      },
      "cell_type": "code",
      "source": [
        "!ps ax | grep ssh"
      ],
      "execution_count": 0,
      "outputs": []
    }
  ]
}